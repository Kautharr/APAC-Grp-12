{
 "cells": [
  {
   "cell_type": "code",
   "execution_count": 6,
   "metadata": {},
   "outputs": [],
   "source": [
    "import pandas as pd\n",
    "\n",
    "seller_orders = pd.read_csv('Datasets/intermediate-set/buy_base_data_df.csv')\n",
    "buyer_orders = pd.read_csv('Datasets/intermediate-set/sell_base_data_df.csv')"
   ]
  },
  {
   "cell_type": "code",
   "execution_count": 9,
   "metadata": {},
   "outputs": [
    {
     "name": "stdout",
     "output_type": "stream",
     "text": [
      "Best Price: None\n"
     ]
    }
   ],
   "source": [
    "def find_best_price(buyer_orders, seller_orders):\n",
    "    best_price = None\n",
    "    max_quantity = 0\n",
    "    \n",
    "    buyer_index = 0\n",
    "    total_qty = 0\n",
    "\n",
    "    for _, seller_order in seller_orders.iterrows():\n",
    "        seller_price = seller_order['Price']\n",
    "        seller_qty = seller_order['Quantity']\n",
    "        \n",
    "        if seller_price == 'Market':\n",
    "            continue\n",
    "        \n",
    "        # Iterate over buyer orders\n",
    "        while buyer_index < len(buyer_orders):\n",
    "            buyer_price = buyer_orders.iloc[buyer_index]['Price']\n",
    "            \n",
    "            # Skip 'Market' orders and stop if buyer price is less than seller price\n",
    "            if buyer_price == 'Market' or buyer_price < seller_price:\n",
    "                break\n",
    "            \n",
    "            buyer_qty = buyer_orders.iloc[buyer_index]['Quantity']\n",
    "            total_qty += buyer_qty\n",
    "            \n",
    "            # Update best price and max quantity if a better match is found\n",
    "            if seller_qty <= total_qty:\n",
    "                if seller_qty > max_quantity:\n",
    "                    max_quantity = seller_qty\n",
    "                    best_price = seller_price\n",
    "                break\n",
    "            else:\n",
    "                buyer_index += 1\n",
    "\n",
    "    return best_price\n",
    "\n",
    "# Example usage:\n",
    "best_price = find_best_price(buyer_orders, seller_orders)\n",
    "print(\"Best Price:\", best_price)\n"
   ]
  },
  {
   "cell_type": "code",
   "execution_count": null,
   "metadata": {},
   "outputs": [],
   "source": [
    "pd.DataFrame([])"
   ]
  },
  {
   "cell_type": "code",
   "execution_count": 11,
   "metadata": {},
   "outputs": [
    {
     "name": "stdout",
     "output_type": "stream",
     "text": [
      "6\n",
      "Total qty:  100\n",
      "seller qty:  4100\n"
     ]
    },
    {
     "ename": "KeyboardInterrupt",
     "evalue": "",
     "output_type": "error",
     "traceback": [
      "\u001b[0;31m---------------------------------------------------------------------------\u001b[0m",
      "\u001b[0;31mKeyboardInterrupt\u001b[0m                         Traceback (most recent call last)",
      "Cell \u001b[0;32mIn [11], line 36\u001b[0m\n\u001b[1;32m     32\u001b[0m                         buyer_index\u001b[38;5;241m+\u001b[39m\u001b[38;5;241m=\u001b[39m\u001b[38;5;241m1\u001b[39m\n\u001b[1;32m     34\u001b[0m     \u001b[38;5;28;01mreturn\u001b[39;00m best_price\n\u001b[0;32m---> 36\u001b[0m \u001b[43mfind_best_price\u001b[49m\u001b[43m(\u001b[49m\u001b[43mbuyer_orders\u001b[49m\u001b[43m,\u001b[49m\u001b[43m \u001b[49m\u001b[43mseller_orders\u001b[49m\u001b[43m)\u001b[49m\n",
      "Cell \u001b[0;32mIn [11], line 18\u001b[0m, in \u001b[0;36mfind_best_price\u001b[0;34m(buyer_orders, seller_orders)\u001b[0m\n\u001b[1;32m     16\u001b[0m \u001b[38;5;28mprint\u001b[39m(\u001b[38;5;28mlen\u001b[39m(buyer_orders))\n\u001b[1;32m     17\u001b[0m \u001b[38;5;28;01mwhile\u001b[39;00m buyer_index \u001b[38;5;241m<\u001b[39m \u001b[38;5;28mlen\u001b[39m(buyer_orders):\n\u001b[0;32m---> 18\u001b[0m     buyer_price \u001b[38;5;241m=\u001b[39m \u001b[43mbuyer_orders\u001b[49m\u001b[38;5;241;43m.\u001b[39;49m\u001b[43miloc\u001b[49m\u001b[43m[\u001b[49m\u001b[43mbuyer_index\u001b[49m\u001b[43m]\u001b[49m[\u001b[38;5;124m'\u001b[39m\u001b[38;5;124mPrice\u001b[39m\u001b[38;5;124m'\u001b[39m]\n\u001b[1;32m     19\u001b[0m     \u001b[38;5;28;01mif\u001b[39;00m buyer_price \u001b[38;5;241m==\u001b[39m \u001b[38;5;124m'\u001b[39m\u001b[38;5;124mMarket\u001b[39m\u001b[38;5;124m'\u001b[39m \u001b[38;5;129;01mor\u001b[39;00m buyer_price \u001b[38;5;241m>\u001b[39m\u001b[38;5;241m=\u001b[39m seller_price:\n\u001b[1;32m     20\u001b[0m         buyer_qty \u001b[38;5;241m=\u001b[39m buyer_orders\u001b[38;5;241m.\u001b[39miloc[buyer_index][\u001b[38;5;124m'\u001b[39m\u001b[38;5;124mQuantity\u001b[39m\u001b[38;5;124m'\u001b[39m]\n",
      "File \u001b[0;32m/opt/homebrew/lib/python3.10/site-packages/pandas/core/indexing.py:1073\u001b[0m, in \u001b[0;36m_LocationIndexer.__getitem__\u001b[0;34m(self, key)\u001b[0m\n\u001b[1;32m   1070\u001b[0m axis \u001b[38;5;241m=\u001b[39m \u001b[38;5;28mself\u001b[39m\u001b[38;5;241m.\u001b[39maxis \u001b[38;5;129;01mor\u001b[39;00m \u001b[38;5;241m0\u001b[39m\n\u001b[1;32m   1072\u001b[0m maybe_callable \u001b[38;5;241m=\u001b[39m com\u001b[38;5;241m.\u001b[39mapply_if_callable(key, \u001b[38;5;28mself\u001b[39m\u001b[38;5;241m.\u001b[39mobj)\n\u001b[0;32m-> 1073\u001b[0m \u001b[38;5;28;01mreturn\u001b[39;00m \u001b[38;5;28;43mself\u001b[39;49m\u001b[38;5;241;43m.\u001b[39;49m\u001b[43m_getitem_axis\u001b[49m\u001b[43m(\u001b[49m\u001b[43mmaybe_callable\u001b[49m\u001b[43m,\u001b[49m\u001b[43m \u001b[49m\u001b[43maxis\u001b[49m\u001b[38;5;241;43m=\u001b[39;49m\u001b[43maxis\u001b[49m\u001b[43m)\u001b[49m\n",
      "File \u001b[0;32m/opt/homebrew/lib/python3.10/site-packages/pandas/core/indexing.py:1627\u001b[0m, in \u001b[0;36m_iLocIndexer._getitem_axis\u001b[0;34m(self, key, axis)\u001b[0m\n\u001b[1;32m   1624\u001b[0m \u001b[38;5;66;03m# validate the location\u001b[39;00m\n\u001b[1;32m   1625\u001b[0m \u001b[38;5;28mself\u001b[39m\u001b[38;5;241m.\u001b[39m_validate_integer(key, axis)\n\u001b[0;32m-> 1627\u001b[0m \u001b[38;5;28;01mreturn\u001b[39;00m \u001b[38;5;28;43mself\u001b[39;49m\u001b[38;5;241;43m.\u001b[39;49m\u001b[43mobj\u001b[49m\u001b[38;5;241;43m.\u001b[39;49m\u001b[43m_ixs\u001b[49m\u001b[43m(\u001b[49m\u001b[43mkey\u001b[49m\u001b[43m,\u001b[49m\u001b[43m \u001b[49m\u001b[43maxis\u001b[49m\u001b[38;5;241;43m=\u001b[39;49m\u001b[43maxis\u001b[49m\u001b[43m)\u001b[49m\n",
      "File \u001b[0;32m/opt/homebrew/lib/python3.10/site-packages/pandas/core/frame.py:3714\u001b[0m, in \u001b[0;36mDataFrame._ixs\u001b[0;34m(self, i, axis)\u001b[0m\n\u001b[1;32m   3712\u001b[0m \u001b[38;5;66;03m# irow\u001b[39;00m\n\u001b[1;32m   3713\u001b[0m \u001b[38;5;28;01mif\u001b[39;00m axis \u001b[38;5;241m==\u001b[39m \u001b[38;5;241m0\u001b[39m:\n\u001b[0;32m-> 3714\u001b[0m     new_mgr \u001b[38;5;241m=\u001b[39m \u001b[38;5;28;43mself\u001b[39;49m\u001b[38;5;241;43m.\u001b[39;49m\u001b[43m_mgr\u001b[49m\u001b[38;5;241;43m.\u001b[39;49m\u001b[43mfast_xs\u001b[49m\u001b[43m(\u001b[49m\u001b[43mi\u001b[49m\u001b[43m)\u001b[49m\n\u001b[1;32m   3716\u001b[0m     \u001b[38;5;66;03m# if we are a copy, mark as such\u001b[39;00m\n\u001b[1;32m   3717\u001b[0m     copy \u001b[38;5;241m=\u001b[39m \u001b[38;5;28misinstance\u001b[39m(new_mgr\u001b[38;5;241m.\u001b[39marray, np\u001b[38;5;241m.\u001b[39mndarray) \u001b[38;5;129;01mand\u001b[39;00m new_mgr\u001b[38;5;241m.\u001b[39marray\u001b[38;5;241m.\u001b[39mbase \u001b[38;5;129;01mis\u001b[39;00m \u001b[38;5;28;01mNone\u001b[39;00m\n",
      "File \u001b[0;32m/opt/homebrew/lib/python3.10/site-packages/pandas/core/internals/managers.py:1099\u001b[0m, in \u001b[0;36mBlockManager.fast_xs\u001b[0;34m(self, loc)\u001b[0m\n\u001b[1;32m   1096\u001b[0m     ref \u001b[38;5;241m=\u001b[39m weakref\u001b[38;5;241m.\u001b[39mref(\u001b[38;5;28mself\u001b[39m\u001b[38;5;241m.\u001b[39mblocks[\u001b[38;5;241m0\u001b[39m])\n\u001b[1;32m   1097\u001b[0m     \u001b[38;5;28;01mreturn\u001b[39;00m SingleBlockManager(block, \u001b[38;5;28mself\u001b[39m\u001b[38;5;241m.\u001b[39maxes[\u001b[38;5;241m0\u001b[39m], [ref], parent\u001b[38;5;241m=\u001b[39m\u001b[38;5;28mself\u001b[39m)\n\u001b[0;32m-> 1099\u001b[0m dtype \u001b[38;5;241m=\u001b[39m \u001b[43minterleaved_dtype\u001b[49m\u001b[43m(\u001b[49m\u001b[43m[\u001b[49m\u001b[43mblk\u001b[49m\u001b[38;5;241;43m.\u001b[39;49m\u001b[43mdtype\u001b[49m\u001b[43m \u001b[49m\u001b[38;5;28;43;01mfor\u001b[39;49;00m\u001b[43m \u001b[49m\u001b[43mblk\u001b[49m\u001b[43m \u001b[49m\u001b[38;5;129;43;01min\u001b[39;49;00m\u001b[43m \u001b[49m\u001b[38;5;28;43mself\u001b[39;49m\u001b[38;5;241;43m.\u001b[39;49m\u001b[43mblocks\u001b[49m\u001b[43m]\u001b[49m\u001b[43m)\u001b[49m\n\u001b[1;32m   1101\u001b[0m n \u001b[38;5;241m=\u001b[39m \u001b[38;5;28mlen\u001b[39m(\u001b[38;5;28mself\u001b[39m)\n\u001b[1;32m   1103\u001b[0m \u001b[38;5;66;03m# GH#46406\u001b[39;00m\n",
      "File \u001b[0;32m/opt/homebrew/lib/python3.10/site-packages/pandas/core/internals/base.py:226\u001b[0m, in \u001b[0;36minterleaved_dtype\u001b[0;34m(dtypes)\u001b[0m\n\u001b[1;32m    223\u001b[0m \u001b[38;5;28;01mif\u001b[39;00m \u001b[38;5;129;01mnot\u001b[39;00m \u001b[38;5;28mlen\u001b[39m(dtypes):\n\u001b[1;32m    224\u001b[0m     \u001b[38;5;28;01mreturn\u001b[39;00m \u001b[38;5;28;01mNone\u001b[39;00m\n\u001b[0;32m--> 226\u001b[0m \u001b[38;5;28;01mreturn\u001b[39;00m \u001b[43mfind_common_type\u001b[49m\u001b[43m(\u001b[49m\u001b[43mdtypes\u001b[49m\u001b[43m)\u001b[49m\n",
      "File \u001b[0;32m/opt/homebrew/lib/python3.10/site-packages/pandas/core/dtypes/cast.py:1638\u001b[0m, in \u001b[0;36mfind_common_type\u001b[0;34m(types)\u001b[0m\n\u001b[1;32m   1636\u001b[0m \u001b[38;5;28;01mif\u001b[39;00m has_bools:\n\u001b[1;32m   1637\u001b[0m     \u001b[38;5;28;01mfor\u001b[39;00m t \u001b[38;5;129;01min\u001b[39;00m types:\n\u001b[0;32m-> 1638\u001b[0m         \u001b[38;5;28;01mif\u001b[39;00m \u001b[43mis_integer_dtype\u001b[49m\u001b[43m(\u001b[49m\u001b[43mt\u001b[49m\u001b[43m)\u001b[49m \u001b[38;5;129;01mor\u001b[39;00m is_float_dtype(t) \u001b[38;5;129;01mor\u001b[39;00m is_complex_dtype(t):\n\u001b[1;32m   1639\u001b[0m             \u001b[38;5;28;01mreturn\u001b[39;00m np\u001b[38;5;241m.\u001b[39mdtype(\u001b[38;5;124m\"\u001b[39m\u001b[38;5;124mobject\u001b[39m\u001b[38;5;124m\"\u001b[39m)\n\u001b[1;32m   1641\u001b[0m \u001b[38;5;28;01mreturn\u001b[39;00m np\u001b[38;5;241m.\u001b[39mfind_common_type(types, [])\n",
      "\u001b[0;31mKeyboardInterrupt\u001b[0m: "
     ]
    }
   ],
   "source": [
    "def find_best_price(buyer_orders, seller_orders):\n",
    "    best_price = None\n",
    "    max_quantity = 0\n",
    "    \n",
    "   \n",
    "\n",
    "    for _, seller_order in seller_orders.iterrows():\n",
    "        seller_price = seller_order['Price']\n",
    "        seller_qty = seller_order['Quantity']\n",
    "\n",
    "        buyer_index = 0\n",
    "        total_qty = 0\n",
    "        if seller_order['Price'] == 'Market':\n",
    "            continue\n",
    "        else:\n",
    "            print(len(buyer_orders))\n",
    "            while buyer_index < len(buyer_orders):\n",
    "                buyer_price = buyer_orders.iloc[buyer_index]['Price']\n",
    "                if buyer_price == 'Market' or buyer_price >= seller_price:\n",
    "                    buyer_qty = buyer_orders.iloc[buyer_index]['Quantity']\n",
    "                    total_qty += buyer_qty\n",
    "                    print(\"Total qty: \", total_qty)\n",
    "                    if seller_qty <= buyer_qty:\n",
    "                        if seller_qty > max_quantity:\n",
    "                            print(\"max qty: \", max_quantity)\n",
    "                            print(\"best price: \", best_price)\n",
    "                            max_quantity = seller_qty\n",
    "                            best_price = seller_price\n",
    "                    else:\n",
    "                        seller_qty -= buyer_qty\n",
    "                        print('seller qty: ', seller_qty)\n",
    "                        buyer_index+=1\n",
    "\n",
    "    return best_price\n",
    "\n",
    "find_best_price(buyer_orders, seller_orders)\n",
    "\n",
    "\n",
    "\n",
    "\n",
    "    # for _, buyer_order in buyer_orders.iterrows():\n",
    "    #         buyer_price = buyer_order['Price']\n",
    "\n",
    "    #         if buyer_price >= seller_price or buyer_price == 'Market':\n",
    "    #             buyer_quantity = buyer_order['Quantity']\n",
    "    #             seller_quantity = seller_order['Quantity']\n",
    "\n",
    "    #             if buyer_quantity <= seller_quantity:\n",
    "    #                 if buyer_quantity >= max_quantity:\n",
    "    #                     max_quantity = buyer_quantity\n",
    "    #                     best_price = buyer_price\n",
    "    #             else:\n",
    "    #                 max_quantity += seller_quantity\n",
    "                    \n",
    "\n",
    "    #             quantity = min(buyer_orders.iloc[buyer_index]['Quantity'], seller_orders.iloc[seller_index]['Quantity'])\n",
    "    #             print(\"Quantity: \", quantity)\n",
    "    #             if quantity > max_quantity:\n",
    "    #                 max_quantity = quantity\n",
    "    #                 best_price = seller_price\n",
    "    #             seller_index += 1\n",
    "    #         else:\n",
    "    #             buyer_index += 1\n",
    "        \n",
    "    #     return best_price, max_quantity\n",
    "\n",
    "    # best_price, max_quantity = find_best_price(buyer_orders, seller_orders)\n",
    "\n",
    "# print(\"Best Price:\", best_price)\n",
    "# print(\"Maximum Quantity:\", max_quantity)\n"
   ]
  },
  {
   "cell_type": "code",
   "execution_count": 4,
   "metadata": {},
   "outputs": [
    {
     "name": "stdout",
     "output_type": "stream",
     "text": [
      "Quantity:  100\n",
      "Quantity:  100\n",
      "Quantity:  100\n",
      "Quantity:  100\n",
      "Quantity:  100\n",
      "Quantity:  100\n",
      "Quantity:  100\n",
      "Best Price: Market\n",
      "Maximum Quantity: 100\n"
     ]
    }
   ],
   "source": [
    "def find_best_price(buyer_orders, seller_orders):\n",
    "    best_price = None\n",
    "    max_quantity = 0\n",
    "    \n",
    "    buyer_index = 0\n",
    "    seller_index = 0\n",
    "\n",
    "    \n",
    "    while buyer_index < len(buyer_orders) and seller_index < len(seller_orders):\n",
    "        buyer_price = buyer_orders.iloc[buyer_index]['Price']\n",
    "        seller_price = seller_orders.iloc[seller_index]['Price']\n",
    "\n",
    "        if buyer_price >= seller_price or buyer_price == 'Market':\n",
    "            quantity = min(buyer_orders.iloc[buyer_index]['Quantity'], seller_orders.iloc[seller_index]['Quantity'])\n",
    "            print(\"Quantity: \", quantity)\n",
    "            if quantity > max_quantity:\n",
    "                max_quantity = quantity\n",
    "                best_price = seller_price\n",
    "            seller_index += 1\n",
    "        else:\n",
    "            buyer_index += 1\n",
    "    \n",
    "    return best_price, max_quantity\n",
    "\n",
    "best_price, max_quantity = find_best_price(buyer_orders, seller_orders)\n",
    "\n",
    "print(\"Best Price:\", best_price)\n",
    "print(\"Maximum Quantity:\", max_quantity)\n"
   ]
  },
  {
   "cell_type": "code",
   "execution_count": 5,
   "metadata": {},
   "outputs": [
    {
     "name": "stdout",
     "output_type": "stream",
     "text": [
      "      Time OrderID Instrument Quantity Client   Price Side Rating Currencies  \\\n",
      "0  9:00:01      A1        SIA     1500      A  Market  Buy      1    USD,SGD   \n",
      "\n",
      "  PositionCheck LotSize Instrument_Valid RejectionReason Currency_Valid  \\\n",
      "0             Y     100             True             NaN           True   \n",
      "\n",
      "  Lotsize_valid Position_Valid  \n",
      "0          True           True  \n"
     ]
    },
    {
     "name": "stderr",
     "output_type": "stream",
     "text": [
      "/var/folders/m_/kb9mf0b90hb2fvtfccyd41fr0000gn/T/ipykernel_50041/3084202912.py:12: FutureWarning: The frame.append method is deprecated and will be removed from pandas in a future version. Use pandas.concat instead.\n",
      "  matched_orders = matched_orders.append(seller_order)\n"
     ]
    }
   ],
   "source": [
    "import pandas as pd\n",
    "\n",
    "def match_orders(seller_orders, buyer_orders):\n",
    "    \n",
    "    matched_orders = pd.DataFrame(columns=seller_orders.columns)\n",
    "    \n",
    "    for _, buyer_order in buyer_orders.iterrows():\n",
    "        for _, seller_order in seller_orders.iterrows():\n",
    "            if seller_order['Price'] <= buyer_order['Price']:\n",
    "                quantity_traded = min(seller_order['Quantity'], buyer_order['Quantity'])\n",
    "                \n",
    "                matched_orders = matched_orders.append(seller_order)\n",
    "                \n",
    "                seller_orders.at[seller_order.name, 'Quantity'] -= quantity_traded\n",
    "                \n",
    "                buyer_orders.at[buyer_order.name, 'Quantity'] -= quantity_traded\n",
    "\n",
    "            \n",
    "                \n",
    "                if buyer_orders.at[buyer_order.name, 'Quantity'] == 0:\n",
    "                    break\n",
    "                    # store the quantity traded together with the price in the dictionary\n",
    "                    \n",
    "\n",
    "        \n",
    "        \n",
    "        # If buyer quantity is exhausted, break the outer loop\n",
    "        if buyer_orders.at[buyer_order.name, 'Quantity'] == 0:\n",
    "            break\n",
    "    \n",
    "    return matched_orders\n",
    "\n",
    "# after match_orders, dict of price and qty, take the price with highest quantiy\n",
    "\n",
    "\n",
    "# Call the function to match orders\n",
    "matched_orders = match_orders(seller_orders, buyer_orders)\n",
    "\n",
    "# Display the matched orders\n",
    "print(matched_orders)\n"
   ]
  },
  {
   "cell_type": "markdown",
   "metadata": {},
   "source": [
    "check the buyer 'Price' column first then \n",
    "\n",
    "if then the top row of 'Price' in seller_order is <= Price of buyer column. \n",
    "\n",
    "if it is then check the 'Quantity' of buyer and and seller. iterrate t until buyer quantity is exhausted. if the current quantity of seller is less than the buyer quanity, move on to next row, until buyer quanity is exhuasted"
   ]
  }
 ],
 "metadata": {
  "kernelspec": {
   "display_name": "Python 3",
   "language": "python",
   "name": "python3"
  },
  "language_info": {
   "codemirror_mode": {
    "name": "ipython",
    "version": 3
   },
   "file_extension": ".py",
   "mimetype": "text/x-python",
   "name": "python",
   "nbconvert_exporter": "python",
   "pygments_lexer": "ipython3",
   "version": "3.10.13"
  }
 },
 "nbformat": 4,
 "nbformat_minor": 2
}
