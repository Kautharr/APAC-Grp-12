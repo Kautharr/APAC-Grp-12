{
 "cells": [
  {
   "cell_type": "code",
   "execution_count": 40,
   "metadata": {},
   "outputs": [],
   "source": [
    "import pandas as pd\n",
    "\n",
    "seller_orders = pd.read_csv('Datasets/intermediate-set/sample_sell.csv')\n",
    "buyer_orders = pd.read_csv('Datasets/intermediate-set/sample_buy.csv')"
   ]
  },
  {
   "cell_type": "code",
   "execution_count": 41,
   "metadata": {},
   "outputs": [],
   "source": [
    "seller_orders_sample = pd.read_csv('Datasets/intermediate-set/sell_base_data_df.csv')\n",
    "buyer_orders_sample = pd.read_csv('Datasets/intermediate-set/buy_base_data_df.csv')"
   ]
  },
  {
   "cell_type": "code",
   "execution_count": 42,
   "metadata": {},
   "outputs": [],
   "source": [
    "def find_best_price(buyer_orders, seller_orders):\n",
    "    best_price = None\n",
    "    max_quantity = 0\n",
    "   \n",
    "\n",
    "    for index, seller_order in seller_orders.iterrows():\n",
    "        seller_price = seller_orders.iloc[index]['Price']\n",
    "        if seller_price != 'Market':\n",
    "            seller_price = float(seller_price)\n",
    "        print(\"seller price: \", seller_price)\n",
    "        seller_qty = seller_order['Quantity']\n",
    "\n",
    "        buyer_index = 0\n",
    "        total_qty = 0\n",
    "        if seller_order['Price'] == 'Market':\n",
    "            continue\n",
    "        else:\n",
    "            while buyer_index < len(buyer_orders):\n",
    "                buyer_price = buyer_orders.iloc[buyer_index]['Price']\n",
    "                if buyer_price != 'Market':\n",
    "                    buyer_price = float(buyer_price)\n",
    "                if buyer_price == 'Market' or buyer_price >= seller_price:\n",
    "                    buyer_qty = buyer_orders.iloc[buyer_index]['Quantity']\n",
    "                    total_qty += buyer_qty\n",
    "                    print(\"Total qty: \", total_qty)\n",
    "                    if seller_qty <= buyer_qty and seller_qty > max_quantity:\n",
    "                 \n",
    "                        max_quantity = seller_qty\n",
    "                        best_price = seller_price\n",
    "                        print(\"max qty: \", max_quantity)\n",
    "                        print(\"best price: \", best_price)\n",
    "                        break\n",
    "                    else:\n",
    "                        seller_qty -= buyer_qty\n",
    "                        print('seller qty: ', seller_qty)\n",
    "                        buyer_index += 1\n",
    "                else:\n",
    "                    max_quantity = seller_qty\n",
    "                    best_price = seller_price\n",
    "                    break\n",
    "\n",
    "    return best_price\n",
    "\n",
    "\n"
   ]
  },
  {
   "cell_type": "code",
   "execution_count": 43,
   "metadata": {},
   "outputs": [
    {
     "name": "stdout",
     "output_type": "stream",
     "text": [
      "seller price:  32.0\n",
      "Total qty:  1500\n",
      "max qty:  1000.0\n",
      "best price:  32.0\n",
      "seller price:  32.1\n",
      "Total qty:  1500\n",
      "seller qty:  3000.0\n",
      "Best Price: 32.1\n",
      "seller price:  Market\n",
      "seller price:  31.0\n",
      "Total qty:  1500\n",
      "max qty:  1000\n",
      "best price:  31.0\n",
      "seller price:  32.0\n",
      "Total qty:  1500\n",
      "seller qty:  -500\n",
      "Total qty:  5700\n",
      "seller qty:  -4700\n",
      "Total qty:  5800\n",
      "seller qty:  -4800\n",
      "seller price:  32.1\n",
      "Total qty:  1500\n",
      "seller qty:  3000\n",
      "Total qty:  5700\n",
      "max qty:  3000\n",
      "best price:  32.1\n",
      "seller price:  32.1\n",
      "Total qty:  1500\n",
      "seller qty:  -1400\n",
      "Total qty:  5700\n",
      "seller qty:  -5600\n",
      "seller price:  32.2\n",
      "Total qty:  1500\n",
      "max qty:  500\n",
      "best price:  32.2\n",
      "Best Price: 32.1\n"
     ]
    }
   ],
   "source": [
    "\n",
    "best_price = find_best_price(buyer_orders, seller_orders)\n",
    "print(\"Best Price:\", best_price)\n",
    "\n",
    "best_price_sample = find_best_price(buyer_orders_sample, seller_orders_sample)\n",
    "print(\"Best Price:\", best_price)"
   ]
  }
 ],
 "metadata": {
  "kernelspec": {
   "display_name": "Python 3",
   "language": "python",
   "name": "python3"
  },
  "language_info": {
   "codemirror_mode": {
    "name": "ipython",
    "version": 3
   },
   "file_extension": ".py",
   "mimetype": "text/x-python",
   "name": "python",
   "nbconvert_exporter": "python",
   "pygments_lexer": "ipython3",
   "version": "3.10.13"
  }
 },
 "nbformat": 4,
 "nbformat_minor": 2
}
