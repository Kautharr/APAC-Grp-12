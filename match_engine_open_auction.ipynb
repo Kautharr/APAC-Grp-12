{
 "cells": [
  {
   "cell_type": "code",
   "execution_count": 40,
   "metadata": {},
   "outputs": [],
   "source": [
    "import pandas as pd\n",
    "\n",
    "seller_orders = pd.read_csv('Datasets/intermediate-set/sample_sell.csv')\n",
    "buyer_orders = pd.read_csv('Datasets/intermediate-set/sample_buy.csv')"
   ]
  },
  {
   "cell_type": "code",
   "execution_count": 41,
   "metadata": {},
   "outputs": [],
   "source": [
    "seller_orders_sample = pd.read_csv('Datasets/intermediate-set/sell_base_data_df.csv')\n",
    "buyer_orders_sample = pd.read_csv('Datasets/intermediate-set/buy_base_data_df.csv')"
   ]
  },
  {
   "cell_type": "code",
   "execution_count": 42,
   "metadata": {},
   "outputs": [],
   "source": [
    "def find_best_price(buyer_orders, seller_orders):\n",
    "    best_price = None\n",
    "    max_quantity = 0\n",
    "   \n",
    "\n",
    "    for index, seller_order in seller_orders.iterrows():\n",
    "        seller_price = seller_orders.iloc[index]['Price']\n",
    "        if seller_price != 'Market':\n",
    "            seller_price = float(seller_price)\n",
    "        print(\"seller price: \", seller_price)\n",
    "        seller_qty = seller_order['Quantity']\n",
    "\n",
    "        buyer_index = 0\n",
    "        total_qty = 0\n",
    "        if seller_order['Price'] == 'Market':\n",
    "            continue\n",
    "        else:\n",
    "            while buyer_index < len(buyer_orders):\n",
    "                buyer_price = buyer_orders.iloc[buyer_index]['Price']\n",
    "                if buyer_price != 'Market':\n",
    "                    buyer_price = float(buyer_price)\n",
    "                if buyer_price == 'Market' or buyer_price >= seller_price:\n",
    "                    buyer_qty = buyer_orders.iloc[buyer_index]['Quantity']\n",
    "                    total_qty += buyer_qty\n",
    "                    print(\"Total qty: \", total_qty)\n",
    "                    if seller_qty <= buyer_qty and seller_qty > max_quantity:\n",
    "                 \n",
    "                        max_quantity = seller_qty\n",
    "                        best_price = seller_price\n",
    "                        print(\"max qty: \", max_quantity)\n",
    "                        print(\"best price: \", best_price)\n",
    "                        break\n",
    "                    else:\n",
    "                        seller_qty -= buyer_qty\n",
    "                        print('seller qty: ', seller_qty)\n",
    "                        buyer_index += 1\n",
    "                else:\n",
    "                    max_quantity = seller_qty\n",
    "                    best_price = seller_price\n",
    "                    break\n",
    "\n",
    "    return best_price\n",
    "\n",
    "\n"
   ]
  },
  {
   "cell_type": "code",
   "execution_count": 43,
   "metadata": {},
   "outputs": [
    {
     "name": "stdout",
     "output_type": "stream",
     "text": [
      "seller price:  32.0\n",
      "Total qty:  1500\n",
      "max qty:  1000.0\n",
      "best price:  32.0\n",
      "seller price:  32.1\n",
      "Total qty:  1500\n",
      "seller qty:  3000.0\n",
      "Best Price: 32.1\n",
      "seller price:  Market\n",
      "seller price:  31.0\n",
      "Total qty:  1500\n",
      "max qty:  1000\n",
      "best price:  31.0\n",
      "seller price:  32.0\n",
      "Total qty:  1500\n",
      "seller qty:  -500\n",
      "Total qty:  5700\n",
      "seller qty:  -4700\n",
      "Total qty:  5800\n",
      "seller qty:  -4800\n",
      "seller price:  32.1\n",
      "Total qty:  1500\n",
      "seller qty:  3000\n",
      "Total qty:  5700\n",
      "max qty:  3000\n",
      "best price:  32.1\n",
      "seller price:  32.1\n",
      "Total qty:  1500\n",
      "seller qty:  -1400\n",
      "Total qty:  5700\n",
      "seller qty:  -5600\n",
      "seller price:  32.2\n",
      "Total qty:  1500\n",
      "max qty:  500\n",
      "best price:  32.2\n",
      "Best Price: 32.1\n"
     ]
    }
   ],
   "source": [
    "\n",
    "best_price = find_best_price(buyer_orders, seller_orders)\n",
    "print(\"Best Price:\", best_price)\n",
    "\n",
    "best_price_sample = find_best_price(buyer_orders_sample, seller_orders_sample)\n",
    "print(\"Best Price:\", best_price)"
   ]
  },
  {
   "cell_type": "code",
   "execution_count": 4,
   "metadata": {},
   "outputs": [
    {
     "name": "stdout",
     "output_type": "stream",
     "text": [
      "Quantity:  100\n",
      "Quantity:  100\n",
      "Quantity:  100\n",
      "Quantity:  100\n",
      "Quantity:  100\n",
      "Quantity:  100\n",
      "Quantity:  100\n",
      "Best Price: Market\n",
      "Maximum Quantity: 100\n"
     ]
    }
   ],
   "source": [
    "def find_best_price(buyer_orders, seller_orders):\n",
    "    best_price = None\n",
    "    max_quantity = 0\n",
    "    \n",
    "    buyer_index = 0\n",
    "    seller_index = 0\n",
    "\n",
    "    \n",
    "    while buyer_index < len(buyer_orders) and seller_index < len(seller_orders):\n",
    "        buyer_price = buyer_orders.iloc[buyer_index]['Price']\n",
    "        seller_price = seller_orders.iloc[seller_index]['Price']\n",
    "\n",
    "        if buyer_price >= seller_price or buyer_price == 'Market':\n",
    "            quantity = min(buyer_orders.iloc[buyer_index]['Quantity'], seller_orders.iloc[seller_index]['Quantity'])\n",
    "            print(\"Quantity: \", quantity)\n",
    "            if quantity > max_quantity:\n",
    "                max_quantity = quantity\n",
    "                best_price = seller_price\n",
    "            seller_index += 1\n",
    "        else:\n",
    "            buyer_index += 1\n",
    "    \n",
    "    return best_price, max_quantity\n",
    "\n",
    "best_price, max_quantity = find_best_price(buyer_orders, seller_orders)\n",
    "\n",
    "print(\"Best Price:\", best_price)\n",
    "print(\"Maximum Quantity:\", max_quantity)\n"
   ]
  },
  {
   "cell_type": "code",
   "execution_count": 5,
   "metadata": {},
   "outputs": [
    {
     "name": "stdout",
     "output_type": "stream",
     "text": [
      "      Time OrderID Instrument Quantity Client   Price Side Rating Currencies  \\\n",
      "0  9:00:01      A1        SIA     1500      A  Market  Buy      1    USD,SGD   \n",
      "\n",
      "  PositionCheck LotSize Instrument_Valid RejectionReason Currency_Valid  \\\n",
      "0             Y     100             True             NaN           True   \n",
      "\n",
      "  Lotsize_valid Position_Valid  \n",
      "0          True           True  \n"
     ]
    },
    {
     "name": "stderr",
     "output_type": "stream",
     "text": [
      "/var/folders/m_/kb9mf0b90hb2fvtfccyd41fr0000gn/T/ipykernel_50041/3084202912.py:12: FutureWarning: The frame.append method is deprecated and will be removed from pandas in a future version. Use pandas.concat instead.\n",
      "  matched_orders = matched_orders.append(seller_order)\n"
     ]
    }
   ],
   "source": [
    "import pandas as pd\n",
    "\n",
    "def match_orders(seller_orders, buyer_orders):\n",
    "    \n",
    "    matched_orders = pd.DataFrame(columns=seller_orders.columns)\n",
    "    \n",
    "    for _, buyer_order in buyer_orders.iterrows():\n",
    "        for _, seller_order in seller_orders.iterrows():\n",
    "            if seller_order['Price'] <= buyer_order['Price']:\n",
    "                quantity_traded = min(seller_order['Quantity'], buyer_order['Quantity'])\n",
    "                \n",
    "                matched_orders = matched_orders.append(seller_order)\n",
    "                \n",
    "                seller_orders.at[seller_order.name, 'Quantity'] -= quantity_traded\n",
    "                \n",
    "                buyer_orders.at[buyer_order.name, 'Quantity'] -= quantity_traded\n",
    "\n",
    "            \n",
    "                \n",
    "                if buyer_orders.at[buyer_order.name, 'Quantity'] == 0:\n",
    "                    break\n",
    "                    # store the quantity traded together with the price in the dictionary\n",
    "                    \n",
    "\n",
    "        \n",
    "        \n",
    "        # If buyer quantity is exhausted, break the outer loop\n",
    "        if buyer_orders.at[buyer_order.name, 'Quantity'] == 0:\n",
    "            break\n",
    "    \n",
    "    return matched_orders\n",
    "\n",
    "# after match_orders, dict of price and qty, take the price with highest quantiy\n",
    "\n",
    "\n",
    "# Call the function to match orders\n",
    "matched_orders = match_orders(seller_orders, buyer_orders)\n",
    "\n",
    "# Display the matched orders\n",
    "print(matched_orders)\n"
   ]
  },
  {
   "cell_type": "markdown",
   "metadata": {},
   "source": [
    "check the buyer 'Price' column first then \n",
    "\n",
    "if then the top row of 'Price' in seller_order is <= Price of buyer column. \n",
    "\n",
    "if it is then check the 'Quantity' of buyer and and seller. iterrate t until buyer quantity is exhausted. if the current quantity of seller is less than the buyer quanity, move on to next row, until buyer quanity is exhuasted"
   ]
  }
 ],
 "metadata": {
  "kernelspec": {
   "display_name": "Python 3",
   "language": "python",
   "name": "python3"
  },
  "language_info": {
   "codemirror_mode": {
    "name": "ipython",
    "version": 3
   },
   "file_extension": ".py",
   "mimetype": "text/x-python",
   "name": "python",
   "nbconvert_exporter": "python",
   "pygments_lexer": "ipython3",
   "version": "3.10.13"
  }
 },
 "nbformat": 4,
 "nbformat_minor": 2
}
