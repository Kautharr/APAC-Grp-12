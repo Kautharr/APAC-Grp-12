{
 "cells": [
  {
   "cell_type": "code",
   "execution_count": null,
   "metadata": {},
   "outputs": [],
   "source": [
    "import pandas as pd\n",
    "\n",
    "rejected = pd.DataFrame(columns=['OrderID', 'RejectionReason']) \n",
    "\n",
    "def validate_position_continuous(new_trade, previous_orders):\n",
    "    global rejected \n",
    "    starting_letters = set(order[0] for order in previous_orders['SellOrder#'])\n",
    "    if not any(new_trade['Client'].startswith(letter) for letter in starting_letters):\n",
    "        rejected = rejected.append({'OrderID': new_trade['OrderID'], 'RejectionReason': 'REJECTED - POSITION CHECK FAILED'}, ignore_index=True)\n",
    "    return rejected\n",
    "\n",
    "\n"
   ]
  },
  {
   "cell_type": "markdown",
   "metadata": {},
   "source": [
    "give code to create df with columns Time, Client, Instrument, Side, Price, Quantity, OrderID: 09:30:01, C, SIA, Sell, Market, 100, C2"
   ]
  }
 ],
 "metadata": {
  "language_info": {
   "name": "python"
  }
 },
 "nbformat": 4,
 "nbformat_minor": 2
}
